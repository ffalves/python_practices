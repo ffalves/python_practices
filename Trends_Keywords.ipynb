{
  "nbformat": 4,
  "nbformat_minor": 0,
  "metadata": {
    "colab": {
      "name": "Trends_Keywords.ipynb",
      "provenance": [],
      "authorship_tag": "ABX9TyMet+gNbBzXEz7D5D9/K43M"
    },
    "kernelspec": {
      "name": "python3",
      "display_name": "Python 3"
    },
    "language_info": {
      "name": "python"
    }
  },
  "cells": [
    {
      "cell_type": "code",
      "source": [
        "pip install pytrends"
      ],
      "metadata": {
        "id": "PgYU3SE26B3Q"
      },
      "execution_count": null,
      "outputs": []
    },
    {
      "cell_type": "code",
      "execution_count": null,
      "metadata": {
        "id": "jEJ33WvmTpsX"
      },
      "outputs": [],
      "source": [
        "import pytrends \n",
        "from pytrends.request import TrendReq \n",
        "import pandas as pd\n",
        "import time\n",
        "import datetime\n",
        "from datetime import datetime, date, time"
      ]
    },
    {
      "cell_type": "code",
      "source": [
        "import matplotlib.pyplot as plt\n",
        "import seaborn as sns\n",
        "sns.set(color_codes = True)"
      ],
      "metadata": {
        "id": "36v3lKB4fHGy"
      },
      "execution_count": null,
      "outputs": []
    },
    {
      "cell_type": "markdown",
      "source": [
        "**Trends do Google Trends dos últimos 7 dias no Brasil**\n",
        "\n",
        "---\n",
        "\n"
      ],
      "metadata": {
        "id": "wHatEWi8fvIf"
      }
    },
    {
      "cell_type": "code",
      "source": [
        "# Trends sobre a lista de 5 palavras-chave, de 1 mês pra cá, no BR\n",
        "trend = TrendReq()\n",
        "trend.build_payload(kw_list = ['dubladores', 'dublador', 'dubladora', 'dublagem', 'quem faz a voz'], timeframe = 'now 7-d', geo = 'BR') #today - Xm"
      ],
      "metadata": {
        "id": "K7dFaWmhULYB"
      },
      "execution_count": null,
      "outputs": []
    },
    {
      "cell_type": "code",
      "source": [
        "# Trend ao longo do tempo ordenado pela data\n",
        "trend.interest_over_time().sort_values(by = ['date'], ascending = False, inplace = False)"
      ],
      "metadata": {
        "id": "gBNaulpyeiaG"
      },
      "execution_count": null,
      "outputs": []
    },
    {
      "cell_type": "code",
      "source": [
        "# Dataframe\n",
        "trend_df = trend.interest_over_time()\n",
        "trend_df.sort_values(by = ['date'], ascending = False, inplace = True)"
      ],
      "metadata": {
        "id": "M5ibT8hSiU14"
      },
      "execution_count": null,
      "outputs": []
    },
    {
      "cell_type": "code",
      "source": [
        "# Gráfico série temporal \n",
        "dx = trend_df.plot.line(figsize = (18,7), title = 'Interesse ao longo do tempo - Google Trends')\n",
        "dx.set_xlabel('Data')\n",
        "dx.set_ylabel('Trends Index')\n",
        "dx.tick_params(axis = 'both', which = 'major', labelsize = 13)"
      ],
      "metadata": {
        "id": "q5hgHbCHfCsg"
      },
      "execution_count": null,
      "outputs": []
    },
    {
      "cell_type": "code",
      "source": [
        "# Related queries\n",
        "trendTopics = trend.related_queries()\n",
        "print(trendTopics)"
      ],
      "metadata": {
        "id": "oSgz5HDTfWcV"
      },
      "execution_count": null,
      "outputs": []
    },
    {
      "cell_type": "code",
      "source": [
        "# Related categories\n",
        "trendCategories = trend.categories()\n",
        "print(trendCategories)"
      ],
      "metadata": {
        "id": "8RMNn8YnfWm2"
      },
      "execution_count": null,
      "outputs": []
    },
    {
      "cell_type": "code",
      "source": [
        "# Related topics\n",
        "trendTopics = trend.related_topics()\n",
        "print(trendTopics)"
      ],
      "metadata": {
        "id": "GVYCrhw1fWte"
      },
      "execution_count": null,
      "outputs": []
    },
    {
      "cell_type": "code",
      "source": [
        "# Suggestions\n",
        "print(trend.suggestions(keyword = 'dublador'), '\\n')\n",
        "print(trend.suggestions(keyword = 'dubladores'), '\\n')\n",
        "print(trend.suggestions(keyword = 'dubladora'), '\\n')\n",
        "print(trend.suggestions(keyword = 'dublagem'), '\\n')"
      ],
      "metadata": {
        "id": "l5T7THDWfiqB"
      },
      "execution_count": null,
      "outputs": []
    },
    {
      "cell_type": "markdown",
      "source": [
        "**Trends do YouTube Trends dos últimos 7 dias no Brasil**\n",
        "\n",
        "---\n",
        "\n"
      ],
      "metadata": {
        "id": "OwSbfDxthl_T"
      }
    },
    {
      "cell_type": "code",
      "source": [
        "# Trends no YT\n",
        "yt = TrendReq()\n",
        "yt.build_payload(kw_list = ['dubladores', 'dublador', 'dubladora', 'dublagem'], timeframe = 'now 7-d', geo = 'BR', gprop = 'youtube')"
      ],
      "metadata": {
        "id": "tOVWnqq8huNi"
      },
      "execution_count": null,
      "outputs": []
    },
    {
      "cell_type": "code",
      "source": [
        "# Trend ao longo do tempo ordenado pela data\n",
        "yt.interest_over_time().sort_values(by = ['date'], ascending = False, inplace = False)"
      ],
      "metadata": {
        "id": "_tZPjMZtfnmk"
      },
      "execution_count": null,
      "outputs": []
    },
    {
      "cell_type": "code",
      "source": [
        "# Dataframe\n",
        "yt_df = yt.interest_over_time()\n",
        "yt_df.sort_values(by = ['date'], ascending = False, inplace = True)"
      ],
      "metadata": {
        "id": "0BsNV9gTibQ2"
      },
      "execution_count": null,
      "outputs": []
    },
    {
      "cell_type": "code",
      "source": [
        "# Gráfico série temporal \n",
        "dx = yt_df.plot.line(figsize = (18,7), title = 'Interesse ao longo do tempo - YouTube Trends')\n",
        "dx.set_xlabel('Data')\n",
        "dx.set_ylabel('Trends Index')\n",
        "dx.tick_params(axis = 'both', which = 'major', labelsize = 13)"
      ],
      "metadata": {
        "id": "CK8A07b4hy7U"
      },
      "execution_count": null,
      "outputs": []
    },
    {
      "cell_type": "code",
      "source": [
        "# Related queries\n",
        "ytQueries = yt.related_queries()\n",
        "print(ytQueries)"
      ],
      "metadata": {
        "id": "HUsBe_ZahzGe"
      },
      "execution_count": null,
      "outputs": []
    },
    {
      "cell_type": "code",
      "source": [
        "# Related categories\n",
        "ytCategories = yt.categories()\n",
        "print(ytCategories)"
      ],
      "metadata": {
        "id": "Q4usUu_Kilqb"
      },
      "execution_count": null,
      "outputs": []
    },
    {
      "cell_type": "code",
      "source": [
        "# Related topics\n",
        "ytTopics = yt.related_topics()\n",
        "print(ytTopics)"
      ],
      "metadata": {
        "colab": {
          "base_uri": "https://localhost:8080/"
        },
        "id": "ZQszHeS3eg7V",
        "outputId": "70873c6b-7cc7-43f0-9d8f-6863126c80be"
      },
      "execution_count": null,
      "outputs": [
        {
          "output_type": "stream",
          "name": "stdout",
          "text": [
            "{}\n"
          ]
        }
      ]
    },
    {
      "cell_type": "markdown",
      "source": [
        "**Trends do Google Trends dos últimos 7 dias no Brasil - A partir da Categoria\\**\n"
      ],
      "metadata": {
        "id": "PZbURiy2kEt1"
      }
    },
    {
      "cell_type": "code",
      "source": [
        "# Trends from category 34 Movies - Ref: https://github.com/pat310/google-trends-api/wiki/Google-Trends-Categories\n",
        "cat = TrendReq()\n",
        "cat.build_payload(kw_list = ['dubladores', 'dublador', 'dubladora', 'dublagem'], timeframe = 'now 7-d', geo = 'BR', cat = 34)"
      ],
      "metadata": {
        "id": "3RqyESzd7tM6"
      },
      "execution_count": null,
      "outputs": []
    },
    {
      "cell_type": "code",
      "source": [
        "# Trend ao longo do tempo ordenado pela data\n",
        "cat.interest_over_time().sort_values(by = ['date'], ascending = False, inplace = False)"
      ],
      "metadata": {
        "id": "FPGC70IrkPAA"
      },
      "execution_count": null,
      "outputs": []
    },
    {
      "cell_type": "code",
      "source": [
        "# Dataframe\n",
        "cat_df = cat.interest_over_time()\n",
        "cat_df.sort_values(by = ['date'], ascending = False, inplace = True)"
      ],
      "metadata": {
        "id": "mj9afXWakPKS"
      },
      "execution_count": null,
      "outputs": []
    },
    {
      "cell_type": "code",
      "source": [
        "# Gráfico série temporal \n",
        "dx = cat_df.plot.line(figsize = (18,7), title = 'Interesse ao longo do tempo - Google Trends - Categorias')\n",
        "dx.set_xlabel('Data')\n",
        "dx.set_ylabel('Trends Index')\n",
        "dx.tick_params(axis = 'both', which = 'major', labelsize = 13)"
      ],
      "metadata": {
        "id": "f8QaDmGRkPR5"
      },
      "execution_count": null,
      "outputs": []
    },
    {
      "cell_type": "code",
      "source": [
        "# Related queries\n",
        "catQueries = cat.related_queries()\n",
        "print(catQueries)"
      ],
      "metadata": {
        "id": "AaJo7t4-kPXp"
      },
      "execution_count": null,
      "outputs": []
    },
    {
      "cell_type": "code",
      "source": [
        "# Related categories\n",
        "catCategories = cat.categories()\n",
        "print(catCategories)"
      ],
      "metadata": {
        "id": "FpX8HB8-kPi-"
      },
      "execution_count": null,
      "outputs": []
    },
    {
      "cell_type": "code",
      "source": [
        "# Related topics\n",
        "catTopics = cat.related_topics()\n",
        "print(catTopics)"
      ],
      "metadata": {
        "colab": {
          "base_uri": "https://localhost:8080/"
        },
        "id": "RDuEekD4ksR8",
        "outputId": "dfe0e866-2928-4373-b95a-b41921030618"
      },
      "execution_count": null,
      "outputs": [
        {
          "output_type": "stream",
          "name": "stdout",
          "text": [
            "{}\n"
          ]
        }
      ]
    },
    {
      "cell_type": "markdown",
      "source": [
        "**Trends do YouTube Trends dos últimos 7 dias no Brasil - A partir da Categoria**\n"
      ],
      "metadata": {
        "id": "3UBhB9UmlOOs"
      }
    },
    {
      "cell_type": "code",
      "source": [
        "# Trends from category 34 Movies in YT - Ref: https://github.com/pat310/google-trends-api/wiki/Google-Trends-Categories\n",
        "CatYt = TrendReq()\n",
        "CatYt.build_payload(kw_list = ['dubladores', 'dublador', 'dubladora', 'dublagem'], timeframe = 'now 7-d', geo = 'BR', cat = 34, gprop = 'youtube')"
      ],
      "metadata": {
        "id": "MUv3k9IkT91p"
      },
      "execution_count": null,
      "outputs": []
    },
    {
      "cell_type": "code",
      "source": [
        "# Trend ao longo do tempo ordenado pela data\n",
        "CatYt.interest_over_time().sort_values(by = ['date'], ascending = False, inplace = False)"
      ],
      "metadata": {
        "id": "yhZzFulslWNi"
      },
      "execution_count": null,
      "outputs": []
    },
    {
      "cell_type": "code",
      "source": [
        "# Dataframe\n",
        "CatYt_df = CatYt.interest_over_time()\n",
        "CatYt_df.sort_values(by = ['date'], ascending = False, inplace = True)"
      ],
      "metadata": {
        "id": "BK8htJtDlWXB"
      },
      "execution_count": null,
      "outputs": []
    },
    {
      "cell_type": "code",
      "source": [
        "# Gráfico série temporal \n",
        "dx = CatYt_df.plot.line(figsize = (18,7), title = 'Interesse ao longo do tempo - YouTube Trends - Categorias')\n",
        "dx.set_xlabel('Data')\n",
        "dx.set_ylabel('Trends Index')\n",
        "dx.tick_params(axis = 'both', which = 'major', labelsize = 13)"
      ],
      "metadata": {
        "id": "Vp0GbTI0lWdx"
      },
      "execution_count": null,
      "outputs": []
    },
    {
      "cell_type": "code",
      "source": [
        "# Related queries\n",
        "CatYtQueries = CatYt.related_queries()\n",
        "print(CatYtQueries)"
      ],
      "metadata": {
        "id": "ymb7tUyDlWhC"
      },
      "execution_count": null,
      "outputs": []
    },
    {
      "cell_type": "code",
      "source": [
        "# Related categories\n",
        "CatYtCat = CatYt.categories()\n",
        "print(CatYtCat)"
      ],
      "metadata": {
        "id": "c6_Cxn20lWkD"
      },
      "execution_count": null,
      "outputs": []
    },
    {
      "cell_type": "code",
      "source": [
        "# Related topics\n",
        "CatYtTopics = CatYt.related_topics()\n",
        "print(CatYtTopics)"
      ],
      "metadata": {
        "colab": {
          "base_uri": "https://localhost:8080/"
        },
        "id": "l2gEJ_ellWoU",
        "outputId": "ccff6f22-dffe-447a-ea30-ffe4bacab316"
      },
      "execution_count": null,
      "outputs": [
        {
          "output_type": "stream",
          "name": "stdout",
          "text": [
            "{}\n"
          ]
        }
      ]
    },
    {
      "cell_type": "markdown",
      "source": [
        "Trending Searches in Brazil"
      ],
      "metadata": {
        "id": "OJyLkGalqjnD"
      }
    },
    {
      "cell_type": "code",
      "source": [
        "trend.trending_searches(pn='brazil')"
      ],
      "metadata": {
        "colab": {
          "base_uri": "https://localhost:8080/",
          "height": 677
        },
        "id": "MkrU-lFocWw5",
        "outputId": "fbadd5a4-298f-4748-d84f-bb9ea6cf47cb"
      },
      "execution_count": null,
      "outputs": [
        {
          "output_type": "execute_result",
          "data": {
            "text/html": [
              "\n",
              "  <div id=\"df-d46f61df-760a-4578-acfb-c0142342e396\">\n",
              "    <div class=\"colab-df-container\">\n",
              "      <div>\n",
              "<style scoped>\n",
              "    .dataframe tbody tr th:only-of-type {\n",
              "        vertical-align: middle;\n",
              "    }\n",
              "\n",
              "    .dataframe tbody tr th {\n",
              "        vertical-align: top;\n",
              "    }\n",
              "\n",
              "    .dataframe thead th {\n",
              "        text-align: right;\n",
              "    }\n",
              "</style>\n",
              "<table border=\"1\" class=\"dataframe\">\n",
              "  <thead>\n",
              "    <tr style=\"text-align: right;\">\n",
              "      <th></th>\n",
              "      <th>0</th>\n",
              "    </tr>\n",
              "  </thead>\n",
              "  <tbody>\n",
              "    <tr>\n",
              "      <th>0</th>\n",
              "      <td>Gremio</td>\n",
              "    </tr>\n",
              "    <tr>\n",
              "      <th>1</th>\n",
              "      <td>Juventude x Internacional</td>\n",
              "    </tr>\n",
              "    <tr>\n",
              "      <th>2</th>\n",
              "      <td>Vasco</td>\n",
              "    </tr>\n",
              "    <tr>\n",
              "      <th>3</th>\n",
              "      <td>Eliminação BBB</td>\n",
              "    </tr>\n",
              "    <tr>\n",
              "      <th>4</th>\n",
              "      <td>Esportes</td>\n",
              "    </tr>\n",
              "    <tr>\n",
              "      <th>5</th>\n",
              "      <td>Campeonato Paranaense</td>\n",
              "    </tr>\n",
              "    <tr>\n",
              "      <th>6</th>\n",
              "      <td>Sport</td>\n",
              "    </tr>\n",
              "    <tr>\n",
              "      <th>7</th>\n",
              "      <td>Bahia x Doce Mel</td>\n",
              "    </tr>\n",
              "    <tr>\n",
              "      <th>8</th>\n",
              "      <td>Harry Styles</td>\n",
              "    </tr>\n",
              "    <tr>\n",
              "      <th>9</th>\n",
              "      <td>Cupom Amazon</td>\n",
              "    </tr>\n",
              "    <tr>\n",
              "      <th>10</th>\n",
              "      <td>MXRF11</td>\n",
              "    </tr>\n",
              "    <tr>\n",
              "      <th>11</th>\n",
              "      <td>Uma Razão Para Recomeçar</td>\n",
              "    </tr>\n",
              "    <tr>\n",
              "      <th>12</th>\n",
              "      <td>Avai</td>\n",
              "    </tr>\n",
              "    <tr>\n",
              "      <th>13</th>\n",
              "      <td>Lakers</td>\n",
              "    </tr>\n",
              "    <tr>\n",
              "      <th>14</th>\n",
              "      <td>Paysandu</td>\n",
              "    </tr>\n",
              "    <tr>\n",
              "      <th>15</th>\n",
              "      <td>Guarani x São Paulo</td>\n",
              "    </tr>\n",
              "    <tr>\n",
              "      <th>16</th>\n",
              "      <td>Atletico go</td>\n",
              "    </tr>\n",
              "    <tr>\n",
              "      <th>17</th>\n",
              "      <td>Vasco da Gama</td>\n",
              "    </tr>\n",
              "    <tr>\n",
              "      <th>18</th>\n",
              "      <td>Newcastle</td>\n",
              "    </tr>\n",
              "    <tr>\n",
              "      <th>19</th>\n",
              "      <td>Medvedev</td>\n",
              "    </tr>\n",
              "  </tbody>\n",
              "</table>\n",
              "</div>\n",
              "      <button class=\"colab-df-convert\" onclick=\"convertToInteractive('df-d46f61df-760a-4578-acfb-c0142342e396')\"\n",
              "              title=\"Convert this dataframe to an interactive table.\"\n",
              "              style=\"display:none;\">\n",
              "        \n",
              "  <svg xmlns=\"http://www.w3.org/2000/svg\" height=\"24px\"viewBox=\"0 0 24 24\"\n",
              "       width=\"24px\">\n",
              "    <path d=\"M0 0h24v24H0V0z\" fill=\"none\"/>\n",
              "    <path d=\"M18.56 5.44l.94 2.06.94-2.06 2.06-.94-2.06-.94-.94-2.06-.94 2.06-2.06.94zm-11 1L8.5 8.5l.94-2.06 2.06-.94-2.06-.94L8.5 2.5l-.94 2.06-2.06.94zm10 10l.94 2.06.94-2.06 2.06-.94-2.06-.94-.94-2.06-.94 2.06-2.06.94z\"/><path d=\"M17.41 7.96l-1.37-1.37c-.4-.4-.92-.59-1.43-.59-.52 0-1.04.2-1.43.59L10.3 9.45l-7.72 7.72c-.78.78-.78 2.05 0 2.83L4 21.41c.39.39.9.59 1.41.59.51 0 1.02-.2 1.41-.59l7.78-7.78 2.81-2.81c.8-.78.8-2.07 0-2.86zM5.41 20L4 18.59l7.72-7.72 1.47 1.35L5.41 20z\"/>\n",
              "  </svg>\n",
              "      </button>\n",
              "      \n",
              "  <style>\n",
              "    .colab-df-container {\n",
              "      display:flex;\n",
              "      flex-wrap:wrap;\n",
              "      gap: 12px;\n",
              "    }\n",
              "\n",
              "    .colab-df-convert {\n",
              "      background-color: #E8F0FE;\n",
              "      border: none;\n",
              "      border-radius: 50%;\n",
              "      cursor: pointer;\n",
              "      display: none;\n",
              "      fill: #1967D2;\n",
              "      height: 32px;\n",
              "      padding: 0 0 0 0;\n",
              "      width: 32px;\n",
              "    }\n",
              "\n",
              "    .colab-df-convert:hover {\n",
              "      background-color: #E2EBFA;\n",
              "      box-shadow: 0px 1px 2px rgba(60, 64, 67, 0.3), 0px 1px 3px 1px rgba(60, 64, 67, 0.15);\n",
              "      fill: #174EA6;\n",
              "    }\n",
              "\n",
              "    [theme=dark] .colab-df-convert {\n",
              "      background-color: #3B4455;\n",
              "      fill: #D2E3FC;\n",
              "    }\n",
              "\n",
              "    [theme=dark] .colab-df-convert:hover {\n",
              "      background-color: #434B5C;\n",
              "      box-shadow: 0px 1px 3px 1px rgba(0, 0, 0, 0.15);\n",
              "      filter: drop-shadow(0px 1px 2px rgba(0, 0, 0, 0.3));\n",
              "      fill: #FFFFFF;\n",
              "    }\n",
              "  </style>\n",
              "\n",
              "      <script>\n",
              "        const buttonEl =\n",
              "          document.querySelector('#df-d46f61df-760a-4578-acfb-c0142342e396 button.colab-df-convert');\n",
              "        buttonEl.style.display =\n",
              "          google.colab.kernel.accessAllowed ? 'block' : 'none';\n",
              "\n",
              "        async function convertToInteractive(key) {\n",
              "          const element = document.querySelector('#df-d46f61df-760a-4578-acfb-c0142342e396');\n",
              "          const dataTable =\n",
              "            await google.colab.kernel.invokeFunction('convertToInteractive',\n",
              "                                                     [key], {});\n",
              "          if (!dataTable) return;\n",
              "\n",
              "          const docLinkHtml = 'Like what you see? Visit the ' +\n",
              "            '<a target=\"_blank\" href=https://colab.research.google.com/notebooks/data_table.ipynb>data table notebook</a>'\n",
              "            + ' to learn more about interactive tables.';\n",
              "          element.innerHTML = '';\n",
              "          dataTable['output_type'] = 'display_data';\n",
              "          await google.colab.output.renderOutput(dataTable, element);\n",
              "          const docLink = document.createElement('div');\n",
              "          docLink.innerHTML = docLinkHtml;\n",
              "          element.appendChild(docLink);\n",
              "        }\n",
              "      </script>\n",
              "    </div>\n",
              "  </div>\n",
              "  "
            ],
            "text/plain": [
              "                            0\n",
              "0                      Gremio\n",
              "1   Juventude x Internacional\n",
              "2                       Vasco\n",
              "3              Eliminação BBB\n",
              "4                    Esportes\n",
              "5       Campeonato Paranaense\n",
              "6                       Sport\n",
              "7            Bahia x Doce Mel\n",
              "8                Harry Styles\n",
              "9                Cupom Amazon\n",
              "10                     MXRF11\n",
              "11   Uma Razão Para Recomeçar\n",
              "12                       Avai\n",
              "13                     Lakers\n",
              "14                   Paysandu\n",
              "15        Guarani x São Paulo\n",
              "16                Atletico go\n",
              "17              Vasco da Gama\n",
              "18                  Newcastle\n",
              "19                   Medvedev"
            ]
          },
          "metadata": {},
          "execution_count": 62
        }
      ]
    }
  ]
}